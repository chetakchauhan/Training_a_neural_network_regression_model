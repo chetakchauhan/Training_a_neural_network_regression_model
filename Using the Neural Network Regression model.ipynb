{
 "cells": [
  {
   "cell_type": "code",
   "execution_count": 2,
   "metadata": {},
   "outputs": [
    {
     "name": "stderr",
     "output_type": "stream",
     "text": [
      "Using TensorFlow backend.\n"
     ]
    }
   ],
   "source": [
    "# loading the libraries\n",
    "from keras.models import load_model\n",
    "from sklearn.externals import joblib"
   ]
  },
  {
   "cell_type": "code",
   "execution_count": 3,
   "metadata": {},
   "outputs": [],
   "source": [
    "# Load our trained model\n",
    "model = load_model('house_value_model.h5')\n",
    "\n",
    "# Load the data scalers so that we can transform new data and prediction the same way as training data.\n",
    "X_scaler = joblib.load('X_scaler.pkl')\n",
    "y_scaler = joblib.load('y_scaler.pkl')"
   ]
  },
  {
   "cell_type": "code",
   "execution_count": 4,
   "metadata": {},
   "outputs": [],
   "source": [
    "# Define the house that we want to value (with the values in the same order as in the training data).\n",
    "house_1 = [\n",
    "    2000,  # Size in Square Feet\n",
    "    3,  # Number of Bedrooms\n",
    "    2,  # Number of Bathrooms\n",
    "]\n",
    "\n",
    "# Keras assumes we want to predict the values for multiple of houses at once, so it expects an array.\n",
    "# We only want to value a single house, so it will be the only item in our array.\n",
    "homes = [\n",
    "    house_1\n",
    "]\n",
    "\n",
    "# Scale the new data like the training data\n",
    "scaled_home_data = X_scaler.transform(homes)"
   ]
  },
  {
   "cell_type": "code",
   "execution_count": 5,
   "metadata": {},
   "outputs": [
    {
     "name": "stdout",
     "output_type": "stream",
     "text": [
      "House details:\n",
      "- 2000 sq feet\n",
      "- 3 bedrooms\n",
      "- 2 bathrooms\n",
      "Estimated value: $381,793.22\n"
     ]
    }
   ],
   "source": [
    "# Make a prediction for each house in the homes array (but we only have one)\n",
    "home_values = model.predict(scaled_home_data)\n",
    "\n",
    "# The prediction from the neural network will be scaled 0 to 1 just like the training data\n",
    "# We need to unscale it using the same factor as we used to scale the training data\n",
    "unscaled_home_values = y_scaler.inverse_transform(home_values)\n",
    "\n",
    "# Since we are only predicting the price of one house, grab the first prediction returned\n",
    "predicted_value = unscaled_home_values[0][0]\n",
    "\n",
    "# Print the results\n",
    "print(\"House details:\")\n",
    "print(f\"- {house_1[0]} sq feet\")\n",
    "print(f\"- {house_1[1]} bedrooms\")\n",
    "print(f\"- {house_1[2]} bathrooms\")\n",
    "print(f\"Estimated value: ${predicted_value:,.2f}\")"
   ]
  }
 ],
 "metadata": {
  "kernelspec": {
   "display_name": "Python 3",
   "language": "python",
   "name": "python3"
  },
  "language_info": {
   "codemirror_mode": {
    "name": "ipython",
    "version": 3
   },
   "file_extension": ".py",
   "mimetype": "text/x-python",
   "name": "python",
   "nbconvert_exporter": "python",
   "pygments_lexer": "ipython3",
   "version": "3.6.6"
  }
 },
 "nbformat": 4,
 "nbformat_minor": 2
}
