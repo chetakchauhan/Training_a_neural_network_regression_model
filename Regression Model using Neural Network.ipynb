{
 "cells": [
  {
   "cell_type": "code",
   "execution_count": 3,
   "metadata": {},
   "outputs": [
    {
     "name": "stderr",
     "output_type": "stream",
     "text": [
      "Using TensorFlow backend.\n"
     ]
    }
   ],
   "source": [
    "# loading the libraries\n",
    "\n",
    "import pandas as pd\n",
    "from keras.models import Sequential\n",
    "from keras.layers import *\n",
    "from sklearn.model_selection import train_test_split\n",
    "from sklearn.preprocessing import MinMaxScaler\n",
    "from sklearn.externals import joblib\n",
    "from sklearn.metrics import mean_absolute_error\n",
    "\n",
    "# Disable some useless pandas warnings to prevent some junk from showing up in the output window\n",
    "pd.options.mode.chained_assignment = None"
   ]
  },
  {
   "cell_type": "code",
   "execution_count": 4,
   "metadata": {},
   "outputs": [],
   "source": [
    "# Load our data set\n",
    "df = pd.read_csv(\"house_data.csv\")\n",
    "\n",
    "# Create the X and y arrays\n",
    "X = df[[\"sq_feet\", \"num_bedrooms\", \"num_bathrooms\"]]\n",
    "y = df[[\"sale_price\"]]"
   ]
  },
  {
   "cell_type": "code",
   "execution_count": 7,
   "metadata": {},
   "outputs": [
    {
     "name": "stderr",
     "output_type": "stream",
     "text": [
      "/anaconda3/lib/python3.6/site-packages/sklearn/preprocessing/data.py:323: DataConversionWarning: Data with input dtype int64 were all converted to float64 by MinMaxScaler.\n",
      "  return self.partial_fit(X, y)\n",
      "/anaconda3/lib/python3.6/site-packages/sklearn/preprocessing/data.py:323: DataConversionWarning: Data with input dtype int64 were all converted to float64 by MinMaxScaler.\n",
      "  return self.partial_fit(X, y)\n"
     ]
    }
   ],
   "source": [
    "# Data needs to be scaled to  0 to 1 for the neural network to train correctly.\n",
    "\n",
    "# Creating a scaler classes for inputs and outputs dataframes\n",
    "X_scaler = MinMaxScaler(feature_range=(0, 1))\n",
    "y_scaler = MinMaxScaler(feature_range=(0, 1))\n",
    "\n",
    "# We created seperate scaler for the input and output values, so that we can use them seperately when we \n",
    "# make real predictions on unseen/new data\n",
    "\n",
    "# Scale both the training inputs and outputs using the above created classes\n",
    "X[X.columns] = X_scaler.fit_transform(X[X.columns])\n",
    "y[y.columns] = y_scaler.fit_transform(y[y.columns])"
   ]
  },
  {
   "cell_type": "code",
   "execution_count": 18,
   "metadata": {},
   "outputs": [
    {
     "data": {
      "text/html": [
       "<div>\n",
       "<style scoped>\n",
       "    .dataframe tbody tr th:only-of-type {\n",
       "        vertical-align: middle;\n",
       "    }\n",
       "\n",
       "    .dataframe tbody tr th {\n",
       "        vertical-align: top;\n",
       "    }\n",
       "\n",
       "    .dataframe thead th {\n",
       "        text-align: right;\n",
       "    }\n",
       "</style>\n",
       "<table border=\"1\" class=\"dataframe\">\n",
       "  <thead>\n",
       "    <tr style=\"text-align: right;\">\n",
       "      <th></th>\n",
       "      <th>sq_feet</th>\n",
       "      <th>num_bedrooms</th>\n",
       "      <th>num_bathrooms</th>\n",
       "    </tr>\n",
       "  </thead>\n",
       "  <tbody>\n",
       "    <tr>\n",
       "      <th>399</th>\n",
       "      <td>0.371535</td>\n",
       "      <td>0.333333</td>\n",
       "      <td>0.0</td>\n",
       "    </tr>\n",
       "    <tr>\n",
       "      <th>3733</th>\n",
       "      <td>0.710489</td>\n",
       "      <td>0.666667</td>\n",
       "      <td>0.0</td>\n",
       "    </tr>\n",
       "    <tr>\n",
       "      <th>8185</th>\n",
       "      <td>0.107745</td>\n",
       "      <td>0.333333</td>\n",
       "      <td>0.5</td>\n",
       "    </tr>\n",
       "    <tr>\n",
       "      <th>6060</th>\n",
       "      <td>0.226350</td>\n",
       "      <td>0.333333</td>\n",
       "      <td>0.5</td>\n",
       "    </tr>\n",
       "    <tr>\n",
       "      <th>1083</th>\n",
       "      <td>0.935124</td>\n",
       "      <td>0.666667</td>\n",
       "      <td>0.5</td>\n",
       "    </tr>\n",
       "  </tbody>\n",
       "</table>\n",
       "</div>"
      ],
      "text/plain": [
       "       sq_feet  num_bedrooms  num_bathrooms\n",
       "399   0.371535      0.333333            0.0\n",
       "3733  0.710489      0.666667            0.0\n",
       "8185  0.107745      0.333333            0.5\n",
       "6060  0.226350      0.333333            0.5\n",
       "1083  0.935124      0.666667            0.5"
      ]
     },
     "execution_count": 18,
     "metadata": {},
     "output_type": "execute_result"
    }
   ],
   "source": [
    "# Split the data set in a training set (75%) and a test set (25%)\n",
    "X_train, X_test, y_train, y_test = train_test_split(X, y, test_size=0.25)\n",
    "\n",
    "X_train.head()"
   ]
  },
  {
   "cell_type": "code",
   "execution_count": null,
   "metadata": {},
   "outputs": [],
   "source": [
    "# Create a Neural Network model\n",
    "model = Sequential() # model object to which we will add our layers\n",
    "model.add(Dense(50, input_dim=3, activation='relu')) # X_train has 3 columns so input_dim=3\n",
    "model.add(Dense(100, activation='relu'))\n",
    "model.add(Dense(50, activation='relu'))\n",
    "model.add(Dense(1, activation='linear')) # we are predicting house value, so one node in output layer\n",
    "\n",
    "# Keras uses Tensorflow behind the scenes to do all the math. Now that we have declared all the layers, \n",
    "# we need Keras to construct the Neural Network inside the TensorFlow using the compile function.\n",
    "model.compile(\n",
    "    loss='mean_squared_error', \n",
    "    optimizer='SGD'\n",
    ")\n",
    "\n",
    "# loss is the cost function to measure how wrong neural network currently is. Since we are predicting \n",
    "# continuous values, mean squared error is a good choice.\n",
    "\n",
    "# optimizer is which numerical optimization algorithm we will use to train the neural network. \n",
    "# We’ll use stochastic gradient descent. This is the exact same thing as the normal gradient descent algorithm \n",
    "# except that it works with batches of training data instead of processing all the training data at once."
   ]
  },
  {
   "cell_type": "code",
   "execution_count": 33,
   "metadata": {},
   "outputs": [
    {
     "name": "stdout",
     "output_type": "stream",
     "text": [
      "Epoch 1/50\n",
      " - 1s - loss: 3.1814e-04\n",
      "Epoch 2/50\n",
      " - 1s - loss: 3.1817e-04\n",
      "Epoch 3/50\n",
      " - 1s - loss: 3.1850e-04\n",
      "Epoch 4/50\n",
      " - 1s - loss: 3.1740e-04\n",
      "Epoch 5/50\n",
      " - 1s - loss: 3.1762e-04\n",
      "Epoch 6/50\n",
      " - 1s - loss: 3.1850e-04\n",
      "Epoch 7/50\n",
      " - 1s - loss: 3.1916e-04\n",
      "Epoch 8/50\n",
      " - 1s - loss: 3.1758e-04\n",
      "Epoch 9/50\n",
      " - 1s - loss: 3.1840e-04\n",
      "Epoch 10/50\n",
      " - 1s - loss: 3.1852e-04\n",
      "Epoch 11/50\n",
      " - 1s - loss: 3.1786e-04\n",
      "Epoch 12/50\n",
      " - 1s - loss: 3.1791e-04\n",
      "Epoch 13/50\n",
      " - 1s - loss: 3.1736e-04\n",
      "Epoch 14/50\n",
      " - 1s - loss: 3.1830e-04\n",
      "Epoch 15/50\n",
      " - 1s - loss: 3.1787e-04\n",
      "Epoch 16/50\n",
      " - 1s - loss: 3.1794e-04\n",
      "Epoch 17/50\n",
      " - 1s - loss: 3.1871e-04\n",
      "Epoch 18/50\n",
      " - 1s - loss: 3.1806e-04\n",
      "Epoch 19/50\n",
      " - 1s - loss: 3.1826e-04\n",
      "Epoch 20/50\n",
      " - 1s - loss: 3.1769e-04\n",
      "Epoch 21/50\n",
      " - 1s - loss: 3.1729e-04\n",
      "Epoch 22/50\n",
      " - 1s - loss: 3.1825e-04\n",
      "Epoch 23/50\n",
      " - 1s - loss: 3.1811e-04\n",
      "Epoch 24/50\n",
      " - 1s - loss: 3.1853e-04\n",
      "Epoch 25/50\n",
      " - 1s - loss: 3.1853e-04\n",
      "Epoch 26/50\n",
      " - 1s - loss: 3.1804e-04\n",
      "Epoch 27/50\n",
      " - 1s - loss: 3.1806e-04\n",
      "Epoch 28/50\n",
      " - 1s - loss: 3.1828e-04\n",
      "Epoch 29/50\n",
      " - 1s - loss: 3.1799e-04\n",
      "Epoch 30/50\n",
      " - 1s - loss: 3.1801e-04\n",
      "Epoch 31/50\n",
      " - 1s - loss: 3.1864e-04\n",
      "Epoch 32/50\n",
      " - 1s - loss: 3.1789e-04\n",
      "Epoch 33/50\n",
      " - 1s - loss: 3.1806e-04\n",
      "Epoch 34/50\n",
      " - 1s - loss: 3.1735e-04\n",
      "Epoch 35/50\n",
      " - 1s - loss: 3.1882e-04\n",
      "Epoch 36/50\n",
      " - 1s - loss: 3.1746e-04\n",
      "Epoch 37/50\n",
      " - 1s - loss: 3.1814e-04\n",
      "Epoch 38/50\n",
      " - 1s - loss: 3.1748e-04\n",
      "Epoch 39/50\n",
      " - 1s - loss: 3.1786e-04\n",
      "Epoch 40/50\n",
      " - 1s - loss: 3.1688e-04\n",
      "Epoch 41/50\n",
      " - 1s - loss: 3.1710e-04\n",
      "Epoch 42/50\n",
      " - 1s - loss: 3.1813e-04\n",
      "Epoch 43/50\n",
      " - 1s - loss: 3.1806e-04\n",
      "Epoch 44/50\n",
      " - 1s - loss: 3.1767e-04\n",
      "Epoch 45/50\n",
      " - 1s - loss: 3.1879e-04\n",
      "Epoch 46/50\n",
      " - 1s - loss: 3.1870e-04\n",
      "Epoch 47/50\n",
      " - 1s - loss: 3.1824e-04\n",
      "Epoch 48/50\n",
      " - 1s - loss: 3.1660e-04\n",
      "Epoch 49/50\n",
      " - 1s - loss: 3.1768e-04\n",
      "Epoch 50/50\n",
      " - 1s - loss: 3.1771e-04\n"
     ]
    },
    {
     "data": {
      "text/plain": [
       "<keras.callbacks.History at 0x12c57c160>"
      ]
     },
     "execution_count": 33,
     "metadata": {},
     "output_type": "execute_result"
    }
   ],
   "source": [
    "# Train the model\n",
    "model.fit(\n",
    "    X_train,\n",
    "    y_train,\n",
    "    epochs=50,\n",
    "    batch_size=8,\n",
    "    shuffle=True,\n",
    "    verbose=2\n",
    ")\n",
    "\n",
    "# epochs is how many times we will loop through the entire training dataset before ending the gradient descent training process.\n",
    "# batch_size controls how many training examples are considered at once during each gradient descent update pass.\n",
    "# shuffle=True tells Keras to randomize the order of the input data it sees.\n",
    "# verbose controls how much Keras prints on the screen during the training process. Setting it 2 prints less."
   ]
  },
  {
   "cell_type": "code",
   "execution_count": 23,
   "metadata": {},
   "outputs": [],
   "source": [
    "# Save the scalers to files so we can use it to pre-process new data later\n",
    "joblib.dump(X_scaler, \"X_scaler.pkl\")\n",
    "joblib.dump(y_scaler, \"y_scaler.pkl\")\n",
    "\n",
    "# Save the trained model to a file so we can use it to make predictions later\n",
    "model.save(\"house_value_model.h5\")"
   ]
  },
  {
   "cell_type": "code",
   "execution_count": 31,
   "metadata": {},
   "outputs": [
    {
     "name": "stdout",
     "output_type": "stream",
     "text": [
      "Model training results:\n",
      " - Training Set Error: 9112.727251041666\n"
     ]
    }
   ],
   "source": [
    "# Report how well the model is performing\n",
    "print(\"Model training results:\")\n",
    "\n",
    "# Report mean absolute error on the training set in a value scaled back to dollars so it's easier to understand.\n",
    "predictions_train = model.predict(X_train, verbose=0)\n",
    "\n",
    "mse_train = mean_absolute_error(\n",
    "    y_scaler.inverse_transform(predictions_train),\n",
    "    y_scaler.inverse_transform(y_train)\n",
    ")\n",
    "print(f\" - Training Set Error: {mse_train}\")"
   ]
  },
  {
   "cell_type": "code",
   "execution_count": 32,
   "metadata": {},
   "outputs": [
    {
     "name": "stdout",
     "output_type": "stream",
     "text": [
      " - Test Set Error: 9326.21158125\n"
     ]
    }
   ],
   "source": [
    "# Report mean absolute error on the test set in a value scaled back to dollars so it's easier to understand.\n",
    "predictions_test = model.predict(X_test, verbose=0)\n",
    "\n",
    "mse_test = mean_absolute_error(\n",
    "    y_scaler.inverse_transform(predictions_test),\n",
    "    y_scaler.inverse_transform(y_test)\n",
    ")\n",
    "print(f\" - Test Set Error: {mse_test}\")\n"
   ]
  },
  {
   "cell_type": "code",
   "execution_count": null,
   "metadata": {},
   "outputs": [],
   "source": [
    "# how well your model is working:\n",
    "#• If Test Set Error is reasonably low and only a little higher than Training Set Error, then everything is working correctly!\n",
    "#• If Training Set Error and Test Set Error are both really high,the model is failing to learn at all. This is called underfitting.\n",
    "#• If Training Set Error is low but Test Set Error is high, the model is memorizing the training data and not really learning anything. This is called overfitting."
   ]
  }
 ],
 "metadata": {
  "kernelspec": {
   "display_name": "Python 3",
   "language": "python",
   "name": "python3"
  },
  "language_info": {
   "codemirror_mode": {
    "name": "ipython",
    "version": 3
   },
   "file_extension": ".py",
   "mimetype": "text/x-python",
   "name": "python",
   "nbconvert_exporter": "python",
   "pygments_lexer": "ipython3",
   "version": "3.6.6"
  }
 },
 "nbformat": 4,
 "nbformat_minor": 2
}
